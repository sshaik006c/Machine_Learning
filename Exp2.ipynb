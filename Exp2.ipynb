{
 "cells": [
  {
   "cell_type": "markdown",
   "metadata": {},
   "source": [
    "# 1. Libraries"
   ]
  },
  {
   "cell_type": "code",
   "execution_count": 28,
   "metadata": {},
   "outputs": [],
   "source": [
    "#Libraries\n",
    "import numpy as np\n",
    "import pandas as pd\n",
    "import matplotlib.pyplot as plt\n",
    "\n",
    "#sklearn\n",
    "from sklearn.model_selection import train_test_split\n",
    "from sklearn.linear_model import LinearRegression\n",
    "from sklearn import metrics"
   ]
  },
  {
   "cell_type": "markdown",
   "metadata": {},
   "source": [
    "# 2. Data Preparation"
   ]
  },
  {
   "cell_type": "code",
   "execution_count": 2,
   "metadata": {},
   "outputs": [],
   "source": [
    "n = 100 #No. of samples\n",
    "x = np.linspace(-np.pi, np.pi, n)  #np.linspace syntax needs start and end bounds of data and the number of samples\n",
    "y = 0.5*x + np.sin(x) + np.random.random(x.shape)"
   ]
  },
  {
   "cell_type": "markdown",
   "metadata": {},
   "source": [
    "## Visualization"
   ]
  },
  {
   "cell_type": "code",
   "execution_count": 16,
   "metadata": {},
   "outputs": [
    {
     "data": {
      "image/png": "[encoded data removed]",
      "text/plain": [
       "<Figure size 432x288 with 1 Axes>"
      ]
     },
     "metadata": {
      "needs_background": "light"
     },
     "output_type": "display_data"
    }
   ],
   "source": [
    "#Scatterplot of x-input feature and y-target feature\n",
    "# Plot\n",
    "plt.scatter(x, y, c=\"blue\", alpha=0.5)\n",
    "plt.title('Fig 1: Data for linear regression')\n",
    "plt.xlabel('x-input feature')\n",
    "plt.ylabel('y-target feature')\n",
    "plt.show()"
   ]
  },
  {
   "cell_type": "markdown",
   "metadata": {},
   "source": [
    "# 3. Data split into Training, Validation and testing datasets\n",
    "Splitting into 70:15:15"
   ]
  },
  {
   "cell_type": "code",
   "execution_count": 12,
   "metadata": {},
   "outputs": [],
   "source": [
    "# split into train, validation test sets\n",
    "df = pd.DataFrame({'x': x, 'y': y}, columns=['x', 'y'])\n",
    "df_train, df_validate, df_test = np.split(df.sample(frac=1), [int(.7*len(df)), int(.85*len(df))])"
   ]
  },
  {
   "cell_type": "code",
   "execution_count": 13,
   "metadata": {},
   "outputs": [
    {
     "data": {
      "text/html": [
       "<div>\n",
       "<style scoped>\n",
       "    .dataframe tbody tr th:only-of-type {\n",
       "        vertical-align: middle;\n",
       "    }\n",
       "\n",
       "    .dataframe tbody tr th {\n",
       "        vertical-align: top;\n",
       "    }\n",
       "\n",
       "    .dataframe thead th {\n",
       "        text-align: right;\n",
       "    }\n",
       "</style>\n",
       "<table border=\"1\" class=\"dataframe\">\n",
       "  <thead>\n",
       "    <tr style=\"text-align: right;\">\n",
       "      <th></th>\n",
       "      <th>x</th>\n",
       "      <th>y</th>\n",
       "    </tr>\n",
       "  </thead>\n",
       "  <tbody>\n",
       "    <tr>\n",
       "      <th>17</th>\n",
       "      <td>-2.062662</td>\n",
       "      <td>-1.406924</td>\n",
       "    </tr>\n",
       "    <tr>\n",
       "      <th>78</th>\n",
       "      <td>1.808796</td>\n",
       "      <td>2.460627</td>\n",
       "    </tr>\n",
       "    <tr>\n",
       "      <th>56</th>\n",
       "      <td>0.412532</td>\n",
       "      <td>0.802194</td>\n",
       "    </tr>\n",
       "    <tr>\n",
       "      <th>61</th>\n",
       "      <td>0.729865</td>\n",
       "      <td>1.530307</td>\n",
       "    </tr>\n",
       "    <tr>\n",
       "      <th>99</th>\n",
       "      <td>3.141593</td>\n",
       "      <td>2.429317</td>\n",
       "    </tr>\n",
       "    <tr>\n",
       "      <th>...</th>\n",
       "      <td>...</td>\n",
       "      <td>...</td>\n",
       "    </tr>\n",
       "    <tr>\n",
       "      <th>43</th>\n",
       "      <td>-0.412532</td>\n",
       "      <td>-0.295317</td>\n",
       "    </tr>\n",
       "    <tr>\n",
       "      <th>24</th>\n",
       "      <td>-1.618396</td>\n",
       "      <td>-1.516350</td>\n",
       "    </tr>\n",
       "    <tr>\n",
       "      <th>63</th>\n",
       "      <td>0.856798</td>\n",
       "      <td>1.514268</td>\n",
       "    </tr>\n",
       "    <tr>\n",
       "      <th>32</th>\n",
       "      <td>-1.110664</td>\n",
       "      <td>-1.165237</td>\n",
       "    </tr>\n",
       "    <tr>\n",
       "      <th>15</th>\n",
       "      <td>-2.189595</td>\n",
       "      <td>-1.309841</td>\n",
       "    </tr>\n",
       "  </tbody>\n",
       "</table>\n",
       "<p>70 rows × 2 columns</p>\n",
       "</div>"
      ],
      "text/plain": [
       "           x         y\n",
       "17 -2.062662 -1.406924\n",
       "78  1.808796  2.460627\n",
       "56  0.412532  0.802194\n",
       "61  0.729865  1.530307\n",
       "99  3.141593  2.429317\n",
       "..       ...       ...\n",
       "43 -0.412532 -0.295317\n",
       "24 -1.618396 -1.516350\n",
       "63  0.856798  1.514268\n",
       "32 -1.110664 -1.165237\n",
       "15 -2.189595 -1.309841\n",
       "\n",
       "[70 rows x 2 columns]"
      ]
     },
     "execution_count": 13,
     "metadata": {},
     "output_type": "execute_result"
    }
   ],
   "source": [
    "df_train #70 rows of data"
   ]
  },
  {
   "cell_type": "code",
   "execution_count": 14,
   "metadata": {},
   "outputs": [
    {
     "data": {
      "text/html": [
       "<div>\n",
       "<style scoped>\n",
       "    .dataframe tbody tr th:only-of-type {\n",
       "        vertical-align: middle;\n",
       "    }\n",
       "\n",
       "    .dataframe tbody tr th {\n",
       "        vertical-align: top;\n",
       "    }\n",
       "\n",
       "    .dataframe thead th {\n",
       "        text-align: right;\n",
       "    }\n",
       "</style>\n",
       "<table border=\"1\" class=\"dataframe\">\n",
       "  <thead>\n",
       "    <tr style=\"text-align: right;\">\n",
       "      <th></th>\n",
       "      <th>x</th>\n",
       "      <th>y</th>\n",
       "    </tr>\n",
       "  </thead>\n",
       "  <tbody>\n",
       "    <tr>\n",
       "      <th>12</th>\n",
       "      <td>-2.379994</td>\n",
       "      <td>-1.577424</td>\n",
       "    </tr>\n",
       "    <tr>\n",
       "      <th>22</th>\n",
       "      <td>-1.745329</td>\n",
       "      <td>-1.799552</td>\n",
       "    </tr>\n",
       "    <tr>\n",
       "      <th>4</th>\n",
       "      <td>-2.887727</td>\n",
       "      <td>-1.615636</td>\n",
       "    </tr>\n",
       "    <tr>\n",
       "      <th>58</th>\n",
       "      <td>0.539465</td>\n",
       "      <td>1.427747</td>\n",
       "    </tr>\n",
       "    <tr>\n",
       "      <th>19</th>\n",
       "      <td>-1.935729</td>\n",
       "      <td>-1.781221</td>\n",
       "    </tr>\n",
       "    <tr>\n",
       "      <th>33</th>\n",
       "      <td>-1.047198</td>\n",
       "      <td>-1.100635</td>\n",
       "    </tr>\n",
       "    <tr>\n",
       "      <th>87</th>\n",
       "      <td>2.379994</td>\n",
       "      <td>2.417057</td>\n",
       "    </tr>\n",
       "    <tr>\n",
       "      <th>9</th>\n",
       "      <td>-2.570394</td>\n",
       "      <td>-0.994010</td>\n",
       "    </tr>\n",
       "    <tr>\n",
       "      <th>51</th>\n",
       "      <td>0.095200</td>\n",
       "      <td>0.684360</td>\n",
       "    </tr>\n",
       "    <tr>\n",
       "      <th>44</th>\n",
       "      <td>-0.349066</td>\n",
       "      <td>0.271617</td>\n",
       "    </tr>\n",
       "    <tr>\n",
       "      <th>92</th>\n",
       "      <td>2.697327</td>\n",
       "      <td>2.267011</td>\n",
       "    </tr>\n",
       "    <tr>\n",
       "      <th>66</th>\n",
       "      <td>1.047198</td>\n",
       "      <td>1.481654</td>\n",
       "    </tr>\n",
       "    <tr>\n",
       "      <th>80</th>\n",
       "      <td>1.935729</td>\n",
       "      <td>2.868534</td>\n",
       "    </tr>\n",
       "    <tr>\n",
       "      <th>34</th>\n",
       "      <td>-0.983731</td>\n",
       "      <td>-0.617613</td>\n",
       "    </tr>\n",
       "    <tr>\n",
       "      <th>65</th>\n",
       "      <td>0.983731</td>\n",
       "      <td>2.320970</td>\n",
       "    </tr>\n",
       "  </tbody>\n",
       "</table>\n",
       "</div>"
      ],
      "text/plain": [
       "           x         y\n",
       "12 -2.379994 -1.577424\n",
       "22 -1.745329 -1.799552\n",
       "4  -2.887727 -1.615636\n",
       "58  0.539465  1.427747\n",
       "19 -1.935729 -1.781221\n",
       "33 -1.047198 -1.100635\n",
       "87  2.379994  2.417057\n",
       "9  -2.570394 -0.994010\n",
       "51  0.095200  0.684360\n",
       "44 -0.349066  0.271617\n",
       "92  2.697327  2.267011\n",
       "66  1.047198  1.481654\n",
       "80  1.935729  2.868534\n",
       "34 -0.983731 -0.617613\n",
       "65  0.983731  2.320970"
      ]
     },
     "execution_count": 14,
     "metadata": {},
     "output_type": "execute_result"
    }
   ],
   "source": [
    "df_validate #15 rows"
   ]
  },
  {
   "cell_type": "code",
   "execution_count": 15,
   "metadata": {},
   "outputs": [
    {
     "data": {
      "text/html": [
       "<div>\n",
       "<style scoped>\n",
       "    .dataframe tbody tr th:only-of-type {\n",
       "        vertical-align: middle;\n",
       "    }\n",
       "\n",
       "    .dataframe tbody tr th {\n",
       "        vertical-align: top;\n",
       "    }\n",
       "\n",
       "    .dataframe thead th {\n",
       "        text-align: right;\n",
       "    }\n",
       "</style>\n",
       "<table border=\"1\" class=\"dataframe\">\n",
       "  <thead>\n",
       "    <tr style=\"text-align: right;\">\n",
       "      <th></th>\n",
       "      <th>x</th>\n",
       "      <th>y</th>\n",
       "    </tr>\n",
       "  </thead>\n",
       "  <tbody>\n",
       "    <tr>\n",
       "      <th>47</th>\n",
       "      <td>-0.158666</td>\n",
       "      <td>0.384111</td>\n",
       "    </tr>\n",
       "    <tr>\n",
       "      <th>53</th>\n",
       "      <td>0.222133</td>\n",
       "      <td>1.267382</td>\n",
       "    </tr>\n",
       "    <tr>\n",
       "      <th>3</th>\n",
       "      <td>-2.951193</td>\n",
       "      <td>-1.102012</td>\n",
       "    </tr>\n",
       "    <tr>\n",
       "      <th>81</th>\n",
       "      <td>1.999195</td>\n",
       "      <td>2.018147</td>\n",
       "    </tr>\n",
       "    <tr>\n",
       "      <th>57</th>\n",
       "      <td>0.475999</td>\n",
       "      <td>1.491599</td>\n",
       "    </tr>\n",
       "    <tr>\n",
       "      <th>72</th>\n",
       "      <td>1.427997</td>\n",
       "      <td>1.737109</td>\n",
       "    </tr>\n",
       "    <tr>\n",
       "      <th>16</th>\n",
       "      <td>-2.126128</td>\n",
       "      <td>-1.693655</td>\n",
       "    </tr>\n",
       "    <tr>\n",
       "      <th>35</th>\n",
       "      <td>-0.920265</td>\n",
       "      <td>-0.936858</td>\n",
       "    </tr>\n",
       "    <tr>\n",
       "      <th>52</th>\n",
       "      <td>0.158666</td>\n",
       "      <td>0.698233</td>\n",
       "    </tr>\n",
       "    <tr>\n",
       "      <th>84</th>\n",
       "      <td>2.189595</td>\n",
       "      <td>2.471196</td>\n",
       "    </tr>\n",
       "    <tr>\n",
       "      <th>89</th>\n",
       "      <td>2.506927</td>\n",
       "      <td>2.393323</td>\n",
       "    </tr>\n",
       "    <tr>\n",
       "      <th>85</th>\n",
       "      <td>2.253061</td>\n",
       "      <td>2.115270</td>\n",
       "    </tr>\n",
       "    <tr>\n",
       "      <th>27</th>\n",
       "      <td>-1.427997</td>\n",
       "      <td>-1.108449</td>\n",
       "    </tr>\n",
       "    <tr>\n",
       "      <th>21</th>\n",
       "      <td>-1.808796</td>\n",
       "      <td>-1.070096</td>\n",
       "    </tr>\n",
       "    <tr>\n",
       "      <th>60</th>\n",
       "      <td>0.666398</td>\n",
       "      <td>1.185667</td>\n",
       "    </tr>\n",
       "  </tbody>\n",
       "</table>\n",
       "</div>"
      ],
      "text/plain": [
       "           x         y\n",
       "47 -0.158666  0.384111\n",
       "53  0.222133  1.267382\n",
       "3  -2.951193 -1.102012\n",
       "81  1.999195  2.018147\n",
       "57  0.475999  1.491599\n",
       "72  1.427997  1.737109\n",
       "16 -2.126128 -1.693655\n",
       "35 -0.920265 -0.936858\n",
       "52  0.158666  0.698233\n",
       "84  2.189595  2.471196\n",
       "89  2.506927  2.393323\n",
       "85  2.253061  2.115270\n",
       "27 -1.427997 -1.108449\n",
       "21 -1.808796 -1.070096\n",
       "60  0.666398  1.185667"
      ]
     },
     "execution_count": 15,
     "metadata": {},
     "output_type": "execute_result"
    }
   ],
   "source": [
    "df_test #15 rows"
   ]
  },
  {
   "cell_type": "code",
   "execution_count": 53,
   "metadata": {},
   "outputs": [],
   "source": [
    "x_train = df_train[['x']]\n",
    "y_train = df_train[['y']]\n",
    "x_test = df_test[['x']]\n",
    "y_test = df_test[['y']]\n",
    "x_validate = df_validate[['x']]\n",
    "y_validate = df_validate[['y']]"
   ]
  },
  {
   "cell_type": "markdown",
   "metadata": {},
   "source": [
    "# 4. Fitting a line to the data"
   ]
  },
  {
   "cell_type": "code",
   "execution_count": 26,
   "metadata": {},
   "outputs": [
    {
     "data": {
      "image/png": "[encoded data removed]",
      "text/plain": [
       "<Figure size 432x288 with 1 Axes>"
      ]
     },
     "metadata": {
      "needs_background": "light"
     },
     "output_type": "display_data"
    }
   ],
   "source": [
    "\n",
    "X = x.reshape(-1, 1) # Making sure x values are reshaped correctly\n",
    "model = LinearRegression()  #Linear regression object creation\n",
    "model.fit(X,y)              #Fit X and y \n",
    "\n",
    "plt.scatter(X, y,color='black')   # Scatterplot that we already saw in the begining\n",
    "plt.plot(X, model.predict(X),color='b') # This will add the linear fit to our data\n",
    "plt.title('Fig 2: Line fit to training data')\n",
    "plt.xlabel('x-input feature')\n",
    "plt.ylabel('y-target feature')\n",
    "plt.show()"
   ]
  },
  {
   "cell_type": "markdown",
   "metadata": {},
   "source": [
    "# 5. Performance metrics"
   ]
  },
  {
   "cell_type": "code",
   "execution_count": 37,
   "metadata": {},
   "outputs": [],
   "source": [
    "def Performance_Metrics(x_train, y_train, x_test, y_test): \n",
    "    lr = LinearRegression()\n",
    "    lr = lr.fit(x_train, y_train)\n",
    "    lr_pred=lr.predict(x_test)     #predicting using the given test or validate dataset\n",
    "    MSE = metrics.mean_squared_error(y_test,lr_pred)\n",
    "    return MSE"
   ]
  },
  {
   "cell_type": "code",
   "execution_count": 55,
   "metadata": {},
   "outputs": [
    {
     "name": "stdout",
     "output_type": "stream",
     "text": [
      "Validation MSE 0.31593839193411477\n"
     ]
    }
   ],
   "source": [
    "print(\"Validation MSE\",Performance_Metrics(x_train, y_train, x_validate, y_validate))"
   ]
  },
  {
   "cell_type": "code",
   "execution_count": 56,
   "metadata": {},
   "outputs": [
    {
     "name": "stdout",
     "output_type": "stream",
     "text": [
      "Test MSE 0.1678014124864074\n"
     ]
    }
   ],
   "source": [
    "print(\"Test MSE\",Performance_Metrics(x_train, y_train, x_test, y_test))"
   ]
  }
 ],
 "metadata": {
  "kernelspec": {
   "display_name": "Python 3",
   "language": "python",
   "name": "python3"
  },
  "language_info": {
   "codemirror_mode": {
    "name": "ipython",
    "version": 3
   },
   "file_extension": ".py",
   "mimetype": "text/x-python",
   "name": "python",
   "nbconvert_exporter": "python",
   "pygments_lexer": "ipython3",
   "version": "3.7.6"
  }
 },
 "nbformat": 4,
 "nbformat_minor": 4
}
